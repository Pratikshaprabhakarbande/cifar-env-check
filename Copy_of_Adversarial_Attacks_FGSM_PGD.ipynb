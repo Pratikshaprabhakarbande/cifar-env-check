{
  "nbformat": 4,
  "nbformat_minor": 0,
  "metadata": {
    "colab": {
      "provenance": [],
      "authorship_tag": "ABX9TyOxj57m0/VT4OT6S/MRfCJM",
      "include_colab_link": true
    },
    "kernelspec": {
      "name": "python3",
      "display_name": "Python 3"
    },
    "language_info": {
      "name": "python"
    }
  },
  "cells": [
    {
      "cell_type": "markdown",
      "metadata": {
        "id": "view-in-github",
        "colab_type": "text"
      },
      "source": [
        "<a href=\"https://colab.research.google.com/github/Pratikshaprabhakarbande/cifar-env-check/blob/main/Copy_of_Adversarial_Attacks_FGSM_PGD.ipynb\" target=\"_parent\"><img src=\"https://colab.research.google.com/assets/colab-badge.svg\" alt=\"Open In Colab\"/></a>"
      ]
    },
    {
      "cell_type": "code",
      "source": [
        "# @title 🚀 STEP 1: COMPLETE SETUP (NO ERRORS)\n",
        "# 1. Install packages\n",
        "!pip install torch torchvision adversarial-robustness-toolbox tqdm --quiet\n",
        "\n",
        "# 2. Import libraries\n",
        "import torch\n",
        "import torch.nn as nn\n",
        "import torch.optim as optim\n",
        "from torchvision import datasets, transforms\n",
        "from torch.utils.data import DataLoader, Subset\n",
        "import numpy as np\n",
        "import matplotlib.pyplot as plt\n",
        "from tqdm import tqdm\n",
        "import time\n",
        "import os\n",
        "\n",
        "# 3. Create folders\n",
        "os.makedirs('checkpoints', exist_ok=True)\n",
        "os.makedirs('data', exist_ok=True)\n",
        "\n",
        "# 4. Setup device\n",
        "device = torch.device('cuda' if torch.cuda.is_available() else 'cpu')\n",
        "print(f\"✅ Using device: {device}\")\n",
        "\n",
        "# 5. Check GPU\n",
        "if torch.cuda.is_available():\n",
        "    print(f\"✅ GPU: {torch.cuda.get_device_name(0)}\")\n",
        "else:\n",
        "    print(\"✅ Using CPU\")"
      ],
      "metadata": {
        "colab": {
          "base_uri": "https://localhost:8080/"
        },
        "id": "WUvIzmLWhYVr",
        "outputId": "90c916e9-9a1b-498b-adb1-82e003c92d46"
      },
      "execution_count": null,
      "outputs": [
        {
          "output_type": "stream",
          "name": "stdout",
          "text": [
            "✅ Using device: cpu\n",
            "✅ Using CPU\n"
          ]
        }
      ]
    },
    {
      "cell_type": "code",
      "source": [
        "class SimpleCNN(nn.Module):\n",
        "    def __init__(self, num_classes=10):\n",
        "        super(SimpleCNN, self).__init__()\n",
        "        self.features = nn.Sequential(\n",
        "            nn.Conv2d(3, 32, kernel_size=3, padding=1),\n",
        "            nn.ReLU(),\n",
        "            nn.MaxPool2d(2),\n",
        "            nn.Conv2d(32, 64, kernel_size=3, padding=1),\n",
        "            nn.ReLU(),\n",
        "            nn.MaxPool2d(2),\n",
        "            nn.Flatten()\n",
        "        )\n",
        "        self.classifier = nn.Sequential(\n",
        "            nn.Linear(64 * 8 * 8, 128),\n",
        "            nn.ReLU(),\n",
        "            nn.Linear(128, num_classes)\n",
        "        )\n",
        "\n",
        "    def forward(self, x):\n",
        "        x = self.features(x)\n",
        "        x = self.classifier(x)\n",
        "        return x\n",
        "\n",
        "model = SimpleCNN().to(device)\n",
        "print(\"✅ Model created successfully!\")\n",
        "print(f\"✅ Number of parameters: {sum(p.numel() for p in model.parameters()):,}\")"
      ],
      "metadata": {
        "colab": {
          "base_uri": "https://localhost:8080/"
        },
        "id": "A63SApxShzQr",
        "outputId": "e7189472-65b0-43a6-cbf8-54ef90a062c6"
      },
      "execution_count": null,
      "outputs": [
        {
          "output_type": "stream",
          "name": "stdout",
          "text": [
            "✅ Model created successfully!\n",
            "✅ Number of parameters: 545,098\n"
          ]
        }
      ]
    },
    {
      "cell_type": "code",
      "source": [
        "transform = transforms.Compose([\n",
        "    transforms.ToTensor(),\n",
        "    transforms.Normalize((0.5, 0.5, 0.5), (0.5, 0.5, 0.5))\n",
        "])\n",
        "\n",
        "trainset = datasets.CIFAR10(root='./data', train=True, download=True, transform=transform)\n",
        "testset = datasets.CIFAR10(root='./data', train=False, download=True, transform=transform)\n",
        "\n",
        "train_indices = list(range(1000))\n",
        "test_indices = list(range(200))\n",
        "\n",
        "train_subset = Subset(trainset, train_indices)\n",
        "test_subset = Subset(testset, test_indices)\n",
        "\n",
        "trainloader = DataLoader(train_subset, batch_size=32, shuffle=True)\n",
        "testloader = DataLoader(test_subset, batch_size=32, shuffle=False)\n",
        "\n",
        "print(f\"✅ Training samples: {len(train_subset)}\")\n",
        "print(f\"✅ Test samples: {len(test_subset)}\")"
      ],
      "metadata": {
        "colab": {
          "base_uri": "https://localhost:8080/"
        },
        "id": "YNN53gnljyWi",
        "outputId": "26623732-dc5a-42d6-effb-a41b4ecad697"
      },
      "execution_count": null,
      "outputs": [
        {
          "output_type": "stream",
          "name": "stdout",
          "text": [
            "✅ Training samples: 1000\n",
            "✅ Test samples: 200\n"
          ]
        }
      ]
    },
    {
      "cell_type": "code",
      "source": [
        "model = SimpleCNN().to(device)\n",
        "criterion = nn.CrossEntropyLoss()\n",
        "optimizer = optim.Adam(model.parameters(), lr=0.001)\n",
        "\n",
        "print(\"🚀 Starting BASIC training...\")\n",
        "losses = []\n",
        "\n",
        "for epoch in range(2):\n",
        "    model.train()\n",
        "    total_loss = 0\n",
        "\n",
        "    progress_bar = tqdm(trainloader, desc=f'Epoch {epoch+1}/2')\n",
        "\n",
        "    for batch_idx, (data, target) in enumerate(progress_bar):\n",
        "        data, target = data.to(device), target.to(device)\n",
        "\n",
        "        optimizer.zero_grad()\n",
        "        outputs = model(data)\n",
        "        loss = criterion(outputs, target)\n",
        "        loss.backward()\n",
        "        optimizer.step()\n",
        "\n",
        "        total_loss += loss.item()\n",
        "        progress_bar.set_postfix({'Loss': f'{loss.item():.4f}'})\n",
        "\n",
        "    avg_loss = total_loss / len(trainloader)\n",
        "    losses.append(avg_loss)\n",
        "    print(f'✅ Epoch {epoch+1} completed. Average Loss: {avg_loss:.4f}')\n",
        "\n",
        "print(\"🎉 Basic training completed successfully!\")"
      ],
      "metadata": {
        "colab": {
          "base_uri": "https://localhost:8080/"
        },
        "id": "6UBDMi6akaQS",
        "outputId": "799510f9-fa46-47fc-bd5c-6f493ea731d4"
      },
      "execution_count": null,
      "outputs": [
        {
          "output_type": "stream",
          "name": "stdout",
          "text": [
            "🚀 Starting BASIC training...\n"
          ]
        },
        {
          "output_type": "stream",
          "name": "stderr",
          "text": [
            "Epoch 1/2: 100%|██████████| 32/32 [00:01<00:00, 16.28it/s, Loss=2.2944]\n"
          ]
        },
        {
          "output_type": "stream",
          "name": "stdout",
          "text": [
            "✅ Epoch 1 completed. Average Loss: 2.1916\n"
          ]
        },
        {
          "output_type": "stream",
          "name": "stderr",
          "text": [
            "Epoch 2/2: 100%|██████████| 32/32 [00:02<00:00, 10.84it/s, Loss=1.5734]"
          ]
        },
        {
          "output_type": "stream",
          "name": "stdout",
          "text": [
            "✅ Epoch 2 completed. Average Loss: 1.8631\n",
            "🎉 Basic training completed successfully!\n"
          ]
        },
        {
          "output_type": "stream",
          "name": "stderr",
          "text": [
            "\n"
          ]
        }
      ]
    },
    {
      "cell_type": "code",
      "source": [
        "model.eval()\n",
        "correct = 0\n",
        "total = 0\n",
        "\n",
        "with torch.no_grad():\n",
        "    for data, target in testloader:\n",
        "        data, target = data.to(device), target.to(device)\n",
        "        outputs = model(data)\n",
        "        _, predicted = outputs.max(1)\n",
        "        total += target.size(0)\n",
        "        correct += predicted.eq(target).sum().item()\n",
        "\n",
        "accuracy = 100 * correct / total\n",
        "print(f\"✅ Basic Model Accuracy: {accuracy:.2f}%\")"
      ],
      "metadata": {
        "colab": {
          "base_uri": "https://localhost:8080/"
        },
        "id": "nrL1o6vCkumW",
        "outputId": "d896c63d-e665-4adb-b9b0-aceae3d5f254"
      },
      "execution_count": null,
      "outputs": [
        {
          "output_type": "stream",
          "name": "stdout",
          "text": [
            "✅ Basic Model Accuracy: 34.00%\n"
          ]
        }
      ]
    },
    {
      "cell_type": "code",
      "source": [
        "!pip install adversarial-robustness-toolbox --quiet\n",
        "from art.estimators.classification import PyTorchClassifier\n",
        "from art.attacks.evasion import FastGradientMethod, ProjectedGradientDescent\n",
        "print(\"✅ ART installed successfully!\")"
      ],
      "metadata": {
        "colab": {
          "base_uri": "https://localhost:8080/"
        },
        "id": "o9rUP10LliKg",
        "outputId": "70536345-983b-4a07-dc46-2550e75a0b64"
      },
      "execution_count": null,
      "outputs": [
        {
          "output_type": "stream",
          "name": "stdout",
          "text": [
            "✅ ART installed successfully!\n"
          ]
        }
      ]
    },
    {
      "cell_type": "code",
      "source": [
        "art_classifier = PyTorchClassifier(\n",
        "    model=model,\n",
        "    loss=criterion,\n",
        "    input_shape=(3, 32, 32),\n",
        "    nb_classes=10,\n",
        "    clip_values=(-1, 1),\n",
        "    device_type='cpu'\n",
        ")\n",
        "\n",
        "data, target = next(iter(testloader))\n",
        "data, target = data.to(device), target.to(device)\n",
        "\n",
        "attack = FastGradientMethod(estimator=art_classifier, eps=0.1)\n",
        "data_adv_np = attack.generate(x=data.cpu().numpy())\n",
        "data_adv = torch.from_numpy(data_adv_np).to(device)\n",
        "\n",
        "with torch.no_grad():\n",
        "    outputs_clean = model(data)\n",
        "    outputs_adv = model(data_adv)\n",
        "\n",
        "    _, pred_clean = outputs_clean.max(1)\n",
        "    _, pred_adv = outputs_adv.max(1)\n",
        "\n",
        "    clean_acc = pred_clean.eq(target).sum().item() / target.size(0) * 100\n",
        "    adv_acc = pred_adv.eq(target).sum().item() / target.size(0) * 100\n",
        "\n",
        "print(f\"✅ Clean Accuracy: {clean_acc:.2f}%\")\n",
        "print(f\"✅ Adversarial Accuracy (FGSM): {adv_acc:.2f}%\")\n",
        "print(f\"✅ Attack Success: {clean_acc - adv_acc:.2f}% drop\")"
      ],
      "metadata": {
        "colab": {
          "base_uri": "https://localhost:8080/"
        },
        "id": "ojoEoNsWl2GD",
        "outputId": "ffb33959-9fcf-4ed6-e66e-8af42e86d975"
      },
      "execution_count": null,
      "outputs": [
        {
          "output_type": "stream",
          "name": "stdout",
          "text": [
            "✅ Clean Accuracy: 40.62%\n",
            "✅ Adversarial Accuracy (FGSM): 21.88%\n",
            "✅ Attack Success: 18.75% drop\n"
          ]
        }
      ]
    },
    {
      "cell_type": "code",
      "source": [
        "# @title Test Stronger PGD Attack\n",
        "print(\"Testing stronger PGD attack...\")\n",
        "\n",
        "# Create a more powerful attack\n",
        "pgd_attack = ProjectedGradientDescent(\n",
        "    estimator=art_classifier,\n",
        "    eps=0.3,  # Larger perturbation\n",
        "    eps_step=0.01,\n",
        "    max_iter=20,  # More iterations\n",
        "    verbose=False\n",
        ")\n",
        "\n",
        "data_adv_pgd_np = pgd_attack.generate(x=data.cpu().numpy())\n",
        "data_adv_pgd = torch.from_numpy(data_adv_pgd_np).to(device)\n",
        "\n",
        "# Check accuracy\n",
        "with torch.no_grad():\n",
        "    outputs_adv_pgd = model(data_adv_pgd)\n",
        "    _, pred_adv_pgd = outputs_adv_pgd.max(1)\n",
        "    adv_pgd_acc = pred_adv_pgd.eq(target).sum().item() / target.size(0) * 100\n",
        "\n",
        "print(f\"✅ Clean Accuracy: {clean_acc:.2f}%\")\n",
        "print(f\"✅ FGSM Accuracy (ε=0.1): {adv_acc:.2f}%\")\n",
        "print(f\"✅ PGD Accuracy (ε=0.3): {adv_pgd_acc:.2f}%\")\n",
        "print(f\"✅ PGD Attack Success: {clean_acc - adv_pgd_acc:.2f}% drop\")"
      ],
      "metadata": {
        "colab": {
          "base_uri": "https://localhost:8080/"
        },
        "id": "wyK2dgmJmz2l",
        "outputId": "6f881dc4-4b61-4f36-cc1d-a4af8732fcf7"
      },
      "execution_count": null,
      "outputs": [
        {
          "output_type": "stream",
          "name": "stdout",
          "text": [
            "Testing stronger PGD attack...\n",
            "✅ Clean Accuracy: 40.62%\n",
            "✅ FGSM Accuracy (ε=0.1): 21.88%\n",
            "✅ PGD Accuracy (ε=0.3): 12.50%\n",
            "✅ PGD Attack Success: 28.12% drop\n"
          ]
        }
      ]
    }
  ]
}